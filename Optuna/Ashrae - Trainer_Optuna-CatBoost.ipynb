{
 "cells": [
  {
   "cell_type": "code",
   "execution_count": 1,
   "metadata": {
    "_cell_guid": "b1076dfc-b9ad-4769-8c92-a6c4dae69d19",
    "_uuid": "8f2839f25d086af736a60e9eeb907d3b93b6e0e5"
   },
   "outputs": [],
   "source": [
    "import numpy as np # linear algebra\n",
    "import pandas as pd # data processing, CSV file I/O (e.g. pd.read_csv)\n",
    "%matplotlib inline\n",
    "import matplotlib.pyplot as plt\n",
    "import seaborn as sns\n",
    "import lightgbm as lgb\n",
    "from catboost import CatBoostRegressor, Pool\n",
    "import random\n",
    "import gc\n",
    "import os\n",
    "import datetime\n",
    "import pickle\n",
    "import optuna\n",
    "import sqlite3\n",
    "\n",
    "from sklearn.preprocessing import LabelEncoder\n",
    "from sklearn.model_selection import train_test_split\n",
    "\n",
    "from sklearn.metrics import mean_squared_error\n",
    "\n",
    "myfavouritenumber = 0\n",
    "seed = myfavouritenumber\n",
    "random.seed(seed)\n",
    "\n",
    "pd.set_option('max_rows', 9999)\n",
    "pd.set_option('max_columns', 9999)"
   ]
  },
  {
   "cell_type": "markdown",
   "metadata": {},
   "source": [
    "Half_Half_CatBoost Training"
   ]
  },
  {
   "cell_type": "code",
   "execution_count": 2,
   "metadata": {},
   "outputs": [],
   "source": [
    "class Trainer:\n",
    "    def __init__(self, importance_df, model_type='lgb', use_feature_num=None):\n",
    "        self.model_type = model_type\n",
    "        \n",
    "        if use_feature_num is not None:\n",
    "            self.features = importance_df['feature'][:use_feature_num].tolist()\n",
    "        else:\n",
    "            self.features = None\n",
    "            \n",
    "            \n",
    "    def train_half_optuna(self, X_train, y_train, params, num_boost_round, early_stopping_rounds, verbose=200, trial=None):\n",
    "        \n",
    "#         if self.features is None:\n",
    "#             self.features = X_train.columns\n",
    "            \n",
    "#         self.features = [c for c in self.features if c not in ['M']]\n",
    "            \n",
    "        self.X_train = X_train[self.features]\n",
    "        self.y_train = y_train\n",
    "        pruning_callback = optuna.integration.LightGBMPruningCallback(trial, 'rmse')\n",
    "        \n",
    "        if self.model_type == 'lgb':\n",
    "            d_half_1 = lgb.Dataset(self.X_train[:int(self.X_train.shape[0] / 2)], \n",
    "                                   label=self.y_train[:int(X_train.shape[0] / 2)])\n",
    "            d_half_2 = lgb.Dataset(self.X_train[int(self.X_train.shape[0] / 2):], \n",
    "                                   label=self.y_train[int(X_train.shape[0] / 2):])\n",
    "\n",
    "            self.model_1 = lgb.train(params, train_set=d_half_1, num_boost_round=num_boost_round, \n",
    "                                     valid_sets=[d_half_2], verbose_eval=verbose, \n",
    "                                     early_stopping_rounds=early_stopping_rounds, \n",
    "                                     callbacks=[pruning_callback])\n",
    "            \n",
    "            oof = self.model_1.predict(self.X_train[int(self.X_train.shape[0] / 2):],\n",
    "                                       num_iteration=self.model_1.best_iteration)\n",
    "            oof = np.clip(oof, 0, a_max=None)\n",
    "            \n",
    "            rmse = np.sqrt(mean_squared_error(self.y_train[int(X_train.shape[0] / 2):], oof))\n",
    "            \n",
    "        elif self.model_type == 'cat':\n",
    "            cat_features_index = np.where(self.X_train.dtypes == 'category')[0]\n",
    "            d_half_1 = Pool(self.X_train[:int(self.X_train.shape[0] / 2)],\n",
    "                            label=self.y_train[:int(self.X_train.shape[0] / 2)],\n",
    "                            cat_features=cat_features_index)\n",
    "            d_half_2 = Pool(self.X_train[int(self.X_train.shape[0] / 2):],\n",
    "                            label=self.y_train[int(self.X_train.shape[0] / 2):],\n",
    "                            cat_features=cat_features_index)\n",
    "\n",
    "            params['iterations'] = num_boost_round\n",
    "            self.model_1 = CatBoostRegressor(**params)\n",
    "            self.model_1.fit(d_half_1, eval_set=d_half_2, use_best_model=True,\n",
    "                        early_stopping_rounds=early_stopping_rounds, verbose=verbose)\n",
    "            \n",
    "            oof = self.model_1.predict(self.X_train[int(self.X_train.shape[0] / 2):])\n",
    "            oof = np.clip(oof, 0, a_max=None)\n",
    "            \n",
    "            rmse = np.sqrt(mean_squared_error(self.y_train[int(X_train.shape[0] / 2):], oof))\n",
    "            \n",
    "        return rmse"
   ]
  },
  {
   "cell_type": "code",
   "execution_count": 3,
   "metadata": {},
   "outputs": [],
   "source": [
    "# config\n",
    "train_pkl_path = '../input/prep_train_20191126_list.pkl'\n",
    "importance_path = '../Importance/importance_20191126.csv'\n",
    "model_type = 'cat'\n",
    "\n",
    "# Create SQLite Table\n",
    "con = sqlite3.connect('ashrae_cat.db')\n",
    "\n",
    "def objective(trial):\n",
    "    # Search Parameter Range\n",
    "    set_cat_params = {\n",
    "        'learning_rate': 0.03,\n",
    "        'eval_metric': 'RMSE',\n",
    "        'loss_function': 'RMSE',\n",
    "        'random_seed': 42,\n",
    "        'task_type': 'GPU',\n",
    "        'grow_policy': 'Lossguide',\n",
    "        'depth': trial.suggest_int('depth', 4, 10),\n",
    "        'min_data_in_leaf': trial.suggest_int('min_data_in_leaf', 10, 50),\n",
    "        'max_leaves': trial.suggest_int('num_leaves', 64, 300),\n",
    "        'bagging_temperature': trial.suggest_loguniform('bagging_temperature', 1e-2, 1e+2),\n",
    "        'random_strength' :trial.suggest_int('random_strength', 0, 100),\n",
    "    }\n",
    "    \n",
    "    num_boost_round = 1000\n",
    "    early_stopping_rounds = 50\n",
    "    num_feature = 40\n",
    "    verbose = 500\n",
    "    \n",
    "    # Train Model\n",
    "    trainer = Trainer(importance_df=importance_df, model_type=model_type, use_feature_num=num_feature)\n",
    "    rmse = trainer.train_half_optuna(train[0], train[1], set_cat_params, num_boost_round, \n",
    "                                       early_stopping_rounds, verbose, trial)\n",
    "\n",
    "    return rmse"
   ]
  },
  {
   "cell_type": "code",
   "execution_count": 5,
   "metadata": {},
   "outputs": [
    {
     "name": "stdout",
     "output_type": "stream",
     "text": [
      "0:\tlearn: 2.0182101\ttest: 2.0187884\tbest: 2.0187884 (0)\ttotal: 717ms\tremaining: 11m 55s\n",
      "bestTest = 1.190000713\n",
      "bestIteration = 163\n",
      "Shrink model to first 164 iterations.\n"
     ]
    },
    {
     "name": "stderr",
     "output_type": "stream",
     "text": [
      "[I 2019-11-26 22:28:21,902] Finished trial#15 resulted in value: 1.1898062520794561. Current best value is 1.1898062520794561 with parameters: {'bagging_temperature': 0.11785699214569634, 'depth': 10, 'min_data_in_leaf': 23, 'num_leaves': 291, 'random_strength': 89}.\n"
     ]
    },
    {
     "name": "stdout",
     "output_type": "stream",
     "text": [
      "0:\tlearn: 2.0181711\ttest: 2.0187510\tbest: 2.0187510 (0)\ttotal: 1.23s\tremaining: 20m 29s\n",
      "bestTest = 1.192581532\n",
      "bestIteration = 172\n",
      "Shrink model to first 173 iterations.\n"
     ]
    },
    {
     "name": "stderr",
     "output_type": "stream",
     "text": [
      "[I 2019-11-26 22:41:08,486] Finished trial#16 resulted in value: 1.1924530743135755. Current best value is 1.1898062520794561 with parameters: {'bagging_temperature': 0.11785699214569634, 'depth': 10, 'min_data_in_leaf': 23, 'num_leaves': 291, 'random_strength': 89}.\n"
     ]
    },
    {
     "name": "stdout",
     "output_type": "stream",
     "text": [
      "0:\tlearn: 2.0181272\ttest: 2.0188544\tbest: 2.0188544 (0)\ttotal: 10.4s\tremaining: 2h 53m 25s\n",
      "bestTest = 1.189251722\n",
      "bestIteration = 167\n",
      "Shrink model to first 168 iterations.\n"
     ]
    },
    {
     "name": "stderr",
     "output_type": "stream",
     "text": [
      "[I 2019-11-26 22:55:06,651] Finished trial#17 resulted in value: 1.1891383232228971. Current best value is 1.1891383232228971 with parameters: {'bagging_temperature': 0.11652155981796329, 'depth': 10, 'min_data_in_leaf': 13, 'num_leaves': 297, 'random_strength': 78}.\n"
     ]
    },
    {
     "name": "stdout",
     "output_type": "stream",
     "text": [
      "0:\tlearn: 2.0192101\ttest: 2.0191485\tbest: 2.0191485 (0)\ttotal: 1.52s\tremaining: 25m 19s\n",
      "bestTest = 1.193069622\n",
      "bestIteration = 164\n",
      "Shrink model to first 165 iterations.\n"
     ]
    },
    {
     "name": "stderr",
     "output_type": "stream",
     "text": [
      "[I 2019-11-26 23:04:23,923] Finished trial#18 resulted in value: 1.192924983076755. Current best value is 1.1891383232228971 with parameters: {'bagging_temperature': 0.11652155981796329, 'depth': 10, 'min_data_in_leaf': 13, 'num_leaves': 297, 'random_strength': 78}.\n"
     ]
    },
    {
     "name": "stdout",
     "output_type": "stream",
     "text": [
      "0:\tlearn: 2.0208734\ttest: 2.0202155\tbest: 2.0202155 (0)\ttotal: 1.03s\tremaining: 17m 6s\n",
      "bestTest = 1.214822436\n",
      "bestIteration = 156\n",
      "Shrink model to first 157 iterations.\n"
     ]
    },
    {
     "name": "stderr",
     "output_type": "stream",
     "text": [
      "[I 2019-11-26 23:43:53,878] Finished trial#19 resulted in value: 1.2146601498113958. Current best value is 1.1891383232228971 with parameters: {'bagging_temperature': 0.11652155981796329, 'depth': 10, 'min_data_in_leaf': 13, 'num_leaves': 297, 'random_strength': 78}.\n"
     ]
    },
    {
     "name": "stdout",
     "output_type": "stream",
     "text": [
      "0:\tlearn: 2.0208658\ttest: 2.0202004\tbest: 2.0202004 (0)\ttotal: 672ms\tremaining: 11m 11s\n",
      "bestTest = 1.215758827\n",
      "bestIteration = 160\n",
      "Shrink model to first 161 iterations.\n"
     ]
    },
    {
     "name": "stderr",
     "output_type": "stream",
     "text": [
      "[I 2019-11-27 00:02:51,858] Finished trial#20 resulted in value: 1.2155813517084568. Current best value is 1.1891383232228971 with parameters: {'bagging_temperature': 0.11652155981796329, 'depth': 10, 'min_data_in_leaf': 13, 'num_leaves': 297, 'random_strength': 78}.\n"
     ]
    },
    {
     "name": "stdout",
     "output_type": "stream",
     "text": [
      "0:\tlearn: 2.0205520\ttest: 2.0203833\tbest: 2.0203833 (0)\ttotal: 607ms\tremaining: 10m 6s\n",
      "500:\tlearn: 0.8394928\ttest: 1.1960219\tbest: 1.1960219 (500)\ttotal: 4m 49s\tremaining: 4m 48s\n",
      "999:\tlearn: 0.7622860\ttest: 1.1723460\tbest: 1.1723460 (999)\ttotal: 9m 9s\tremaining: 0us\n",
      "bestTest = 1.172345967\n",
      "bestIteration = 999\n",
      "Shrink model to first 1000 iterations.\n"
     ]
    },
    {
     "name": "stderr",
     "output_type": "stream",
     "text": [
      "[I 2019-11-27 00:23:45,313] Finished trial#21 resulted in value: 1.1712196391529086. Current best value is 1.1712196391529086 with parameters: {'bagging_temperature': 0.03803178354860343, 'depth': 10, 'min_data_in_leaf': 23, 'num_leaves': 161, 'random_strength': 77}.\n"
     ]
    },
    {
     "name": "stdout",
     "output_type": "stream",
     "text": [
      "0:\tlearn: 2.0233177\ttest: 2.0226381\tbest: 2.0226381 (0)\ttotal: 4.35s\tremaining: 1h 12m 30s\n",
      "bestTest = 1.247743832\n",
      "bestIteration = 162\n",
      "Shrink model to first 163 iterations.\n"
     ]
    },
    {
     "name": "stderr",
     "output_type": "stream",
     "text": [
      "[I 2019-11-27 00:38:32,630] Finished trial#22 resulted in value: 1.2473972102922828. Current best value is 1.1712196391529086 with parameters: {'bagging_temperature': 0.03803178354860343, 'depth': 10, 'min_data_in_leaf': 23, 'num_leaves': 161, 'random_strength': 77}.\n"
     ]
    },
    {
     "name": "stdout",
     "output_type": "stream",
     "text": [
      "0:\tlearn: 2.0208698\ttest: 2.0205940\tbest: 2.0205940 (0)\ttotal: 609ms\tremaining: 10m 8s\n",
      "bestTest = 1.209447036\n",
      "bestIteration = 167\n",
      "Shrink model to first 168 iterations.\n"
     ]
    },
    {
     "name": "stderr",
     "output_type": "stream",
     "text": [
      "[I 2019-11-27 00:52:52,238] Finished trial#23 resulted in value: 1.2092381007096729. Current best value is 1.1712196391529086 with parameters: {'bagging_temperature': 0.03803178354860343, 'depth': 10, 'min_data_in_leaf': 23, 'num_leaves': 161, 'random_strength': 77}.\n"
     ]
    },
    {
     "name": "stdout",
     "output_type": "stream",
     "text": [
      "0:\tlearn: 2.0264930\ttest: 2.0256055\tbest: 2.0256055 (0)\ttotal: 333ms\tremaining: 5m 32s\n",
      "500:\tlearn: 1.0343294\ttest: 1.2612286\tbest: 1.2612286 (500)\ttotal: 2m 38s\tremaining: 2m 38s\n",
      "999:\tlearn: 0.9459333\ttest: 1.2258312\tbest: 1.2258312 (999)\ttotal: 4m 47s\tremaining: 0us\n",
      "bestTest = 1.225831241\n",
      "bestIteration = 999\n",
      "Shrink model to first 1000 iterations.\n"
     ]
    },
    {
     "name": "stderr",
     "output_type": "stream",
     "text": [
      "[I 2019-11-27 01:06:00,305] Finished trial#24 resulted in value: 1.2234564160042498. Current best value is 1.1712196391529086 with parameters: {'bagging_temperature': 0.03803178354860343, 'depth': 10, 'min_data_in_leaf': 23, 'num_leaves': 161, 'random_strength': 77}.\n"
     ]
    },
    {
     "name": "stdout",
     "output_type": "stream",
     "text": [
      "0:\tlearn: 2.0191022\ttest: 2.0194461\tbest: 2.0194461 (0)\ttotal: 1.13s\tremaining: 18m 48s\n",
      "bestTest = 1.193884833\n",
      "bestIteration = 167\n",
      "Shrink model to first 168 iterations.\n"
     ]
    },
    {
     "name": "stderr",
     "output_type": "stream",
     "text": [
      "[I 2019-11-27 02:09:49,947] Finished trial#25 resulted in value: 1.1937185130670522. Current best value is 1.1712196391529086 with parameters: {'bagging_temperature': 0.03803178354860343, 'depth': 10, 'min_data_in_leaf': 23, 'num_leaves': 161, 'random_strength': 77}.\n"
     ]
    },
    {
     "name": "stdout",
     "output_type": "stream",
     "text": [
      "0:\tlearn: 2.0183828\ttest: 2.0191027\tbest: 2.0191027 (0)\ttotal: 1.38s\tremaining: 23m 1s\n",
      "bestTest = 1.189047626\n",
      "bestIteration = 171\n",
      "Shrink model to first 172 iterations.\n"
     ]
    },
    {
     "name": "stderr",
     "output_type": "stream",
     "text": [
      "[I 2019-11-27 02:27:59,557] Finished trial#26 resulted in value: 1.1888727364860499. Current best value is 1.1712196391529086 with parameters: {'bagging_temperature': 0.03803178354860343, 'depth': 10, 'min_data_in_leaf': 23, 'num_leaves': 161, 'random_strength': 77}.\n"
     ]
    },
    {
     "name": "stdout",
     "output_type": "stream",
     "text": [
      "0:\tlearn: 2.0190427\ttest: 2.0189821\tbest: 2.0189821 (0)\ttotal: 1.15s\tremaining: 19m 5s\n",
      "bestTest = 1.185591356\n",
      "bestIteration = 167\n",
      "Shrink model to first 168 iterations.\n"
     ]
    },
    {
     "name": "stderr",
     "output_type": "stream",
     "text": [
      "[I 2019-11-27 02:41:10,338] Finished trial#27 resulted in value: 1.1853576177873593. Current best value is 1.1712196391529086 with parameters: {'bagging_temperature': 0.03803178354860343, 'depth': 10, 'min_data_in_leaf': 23, 'num_leaves': 161, 'random_strength': 77}.\n"
     ]
    },
    {
     "name": "stdout",
     "output_type": "stream",
     "text": [
      "0:\tlearn: 2.0205321\ttest: 2.0203313\tbest: 2.0203313 (0)\ttotal: 935ms\tremaining: 15m 34s\n",
      "bestTest = 1.211500107\n",
      "bestIteration = 164\n",
      "Shrink model to first 165 iterations.\n"
     ]
    },
    {
     "name": "stderr",
     "output_type": "stream",
     "text": [
      "[I 2019-11-27 02:58:38,928] Finished trial#28 resulted in value: 1.2112796297946193. Current best value is 1.1712196391529086 with parameters: {'bagging_temperature': 0.03803178354860343, 'depth': 10, 'min_data_in_leaf': 23, 'num_leaves': 161, 'random_strength': 77}.\n"
     ]
    },
    {
     "name": "stdout",
     "output_type": "stream",
     "text": [
      "0:\tlearn: 2.0218755\ttest: 2.0212219\tbest: 2.0212219 (0)\ttotal: 507ms\tremaining: 8m 26s\n",
      "bestTest = 1.229991594\n",
      "bestIteration = 164\n",
      "Shrink model to first 165 iterations.\n"
     ]
    },
    {
     "name": "stderr",
     "output_type": "stream",
     "text": [
      "[I 2019-11-27 04:11:00,159] Finished trial#29 resulted in value: 1.229654249141765. Current best value is 1.1712196391529086 with parameters: {'bagging_temperature': 0.03803178354860343, 'depth': 10, 'min_data_in_leaf': 23, 'num_leaves': 161, 'random_strength': 77}.\n"
     ]
    },
    {
     "name": "stdout",
     "output_type": "stream",
     "text": [
      "0:\tlearn: 2.0190269\ttest: 2.0189419\tbest: 2.0189419 (0)\ttotal: 1.13s\tremaining: 18m 45s\n",
      "bestTest = 1.191651747\n",
      "bestIteration = 164\n",
      "Shrink model to first 165 iterations.\n"
     ]
    },
    {
     "name": "stderr",
     "output_type": "stream",
     "text": [
      "[I 2019-11-27 04:38:03,691] Finished trial#30 resulted in value: 1.1914634331730358. Current best value is 1.1712196391529086 with parameters: {'bagging_temperature': 0.03803178354860343, 'depth': 10, 'min_data_in_leaf': 23, 'num_leaves': 161, 'random_strength': 77}.\n"
     ]
    },
    {
     "name": "stdout",
     "output_type": "stream",
     "text": [
      "0:\tlearn: 2.0190803\ttest: 2.0193031\tbest: 2.0193031 (0)\ttotal: 998ms\tremaining: 16m 37s\n",
      "bestTest = 1.190175184\n",
      "bestIteration = 171\n",
      "Shrink model to first 172 iterations.\n"
     ]
    },
    {
     "name": "stderr",
     "output_type": "stream",
     "text": [
      "[I 2019-11-27 04:49:02,808] Finished trial#31 resulted in value: 1.1900027788306713. Current best value is 1.1712196391529086 with parameters: {'bagging_temperature': 0.03803178354860343, 'depth': 10, 'min_data_in_leaf': 23, 'num_leaves': 161, 'random_strength': 77}.\n"
     ]
    },
    {
     "name": "stdout",
     "output_type": "stream",
     "text": [
      "0:\tlearn: 2.0204812\ttest: 2.0202441\tbest: 2.0202441 (0)\ttotal: 564ms\tremaining: 9m 22s\n",
      "bestTest = 1.207673063\n",
      "bestIteration = 163\n",
      "Shrink model to first 164 iterations.\n"
     ]
    },
    {
     "name": "stderr",
     "output_type": "stream",
     "text": [
      "[I 2019-11-27 05:02:32,513] Finished trial#32 resulted in value: 1.2074578868363424. Current best value is 1.1712196391529086 with parameters: {'bagging_temperature': 0.03803178354860343, 'depth': 10, 'min_data_in_leaf': 23, 'num_leaves': 161, 'random_strength': 77}.\n"
     ]
    },
    {
     "name": "stdout",
     "output_type": "stream",
     "text": [
      "0:\tlearn: 2.0208677\ttest: 2.0201985\tbest: 2.0201985 (0)\ttotal: 961ms\tremaining: 16m\n",
      "bestTest = 1.221774142\n",
      "bestIteration = 150\n",
      "Shrink model to first 151 iterations.\n"
     ]
    },
    {
     "name": "stderr",
     "output_type": "stream",
     "text": [
      "[I 2019-11-27 05:14:54,200] Finished trial#33 resulted in value: 1.221572913907462. Current best value is 1.1712196391529086 with parameters: {'bagging_temperature': 0.03803178354860343, 'depth': 10, 'min_data_in_leaf': 23, 'num_leaves': 161, 'random_strength': 77}.\n"
     ]
    },
    {
     "name": "stdout",
     "output_type": "stream",
     "text": [
      "0:\tlearn: 2.0183888\ttest: 2.0190751\tbest: 2.0190751 (0)\ttotal: 1.35s\tremaining: 22m 28s\n",
      "bestTest = 1.194528186\n",
      "bestIteration = 163\n",
      "Shrink model to first 164 iterations.\n"
     ]
    },
    {
     "name": "stderr",
     "output_type": "stream",
     "text": [
      "[I 2019-11-27 07:28:46,708] Finished trial#34 resulted in value: 1.1943747817266128. Current best value is 1.1712196391529086 with parameters: {'bagging_temperature': 0.03803178354860343, 'depth': 10, 'min_data_in_leaf': 23, 'num_leaves': 161, 'random_strength': 77}.\n"
     ]
    },
    {
     "name": "stdout",
     "output_type": "stream",
     "text": [
      "0:\tlearn: 2.0185886\ttest: 2.0191910\tbest: 2.0191910 (0)\ttotal: 736ms\tremaining: 12m 15s\n",
      "bestTest = 1.188614277\n",
      "bestIteration = 154\n",
      "Shrink model to first 155 iterations.\n"
     ]
    },
    {
     "name": "stderr",
     "output_type": "stream",
     "text": [
      "[I 2019-11-27 07:39:10,987] Finished trial#35 resulted in value: 1.1884938312347706. Current best value is 1.1712196391529086 with parameters: {'bagging_temperature': 0.03803178354860343, 'depth': 10, 'min_data_in_leaf': 23, 'num_leaves': 161, 'random_strength': 77}.\n"
     ]
    },
    {
     "name": "stdout",
     "output_type": "stream",
     "text": [
      "0:\tlearn: 2.0187124\ttest: 2.0193105\tbest: 2.0193105 (0)\ttotal: 1.14s\tremaining: 19m 1s\n",
      "bestTest = 1.196670765\n",
      "bestIteration = 172\n",
      "Shrink model to first 173 iterations.\n"
     ]
    },
    {
     "name": "stderr",
     "output_type": "stream",
     "text": [
      "[I 2019-11-27 09:50:35,572] Finished trial#36 resulted in value: 1.196452073306114. Current best value is 1.1712196391529086 with parameters: {'bagging_temperature': 0.03803178354860343, 'depth': 10, 'min_data_in_leaf': 23, 'num_leaves': 161, 'random_strength': 77}.\n"
     ]
    },
    {
     "name": "stdout",
     "output_type": "stream",
     "text": [
      "0:\tlearn: 2.0191194\ttest: 2.0190541\tbest: 2.0190541 (0)\ttotal: 1.02s\tremaining: 16m 56s\n",
      "bestTest = 1.192661339\n",
      "bestIteration = 164\n",
      "Shrink model to first 165 iterations.\n"
     ]
    },
    {
     "name": "stderr",
     "output_type": "stream",
     "text": [
      "[I 2019-11-27 10:02:35,038] Finished trial#37 resulted in value: 1.1925005461515885. Current best value is 1.1712196391529086 with parameters: {'bagging_temperature': 0.03803178354860343, 'depth': 10, 'min_data_in_leaf': 23, 'num_leaves': 161, 'random_strength': 77}.\n"
     ]
    },
    {
     "name": "stdout",
     "output_type": "stream",
     "text": [
      "0:\tlearn: 2.0191658\ttest: 2.0193772\tbest: 2.0193772 (0)\ttotal: 796ms\tremaining: 13m 15s\n",
      "bestTest = 1.200380871\n",
      "bestIteration = 158\n",
      "Shrink model to first 159 iterations.\n"
     ]
    },
    {
     "name": "stderr",
     "output_type": "stream",
     "text": [
      "[I 2019-11-27 10:13:33,316] Finished trial#38 resulted in value: 1.2002319509038089. Current best value is 1.1712196391529086 with parameters: {'bagging_temperature': 0.03803178354860343, 'depth': 10, 'min_data_in_leaf': 23, 'num_leaves': 161, 'random_strength': 77}.\n"
     ]
    },
    {
     "name": "stdout",
     "output_type": "stream",
     "text": [
      "0:\tlearn: 2.0189362\ttest: 2.0188504\tbest: 2.0188504 (0)\ttotal: 1.22s\tremaining: 20m 15s\n",
      "bestTest = 1.195857241\n",
      "bestIteration = 172\n",
      "Shrink model to first 173 iterations.\n"
     ]
    },
    {
     "name": "stderr",
     "output_type": "stream",
     "text": [
      "[I 2019-11-27 10:25:26,031] Finished trial#39 resulted in value: 1.1955520462222038. Current best value is 1.1712196391529086 with parameters: {'bagging_temperature': 0.03803178354860343, 'depth': 10, 'min_data_in_leaf': 23, 'num_leaves': 161, 'random_strength': 77}.\n"
     ]
    },
    {
     "name": "stdout",
     "output_type": "stream",
     "text": [
      "0:\tlearn: 2.0597283\ttest: 2.0560447\tbest: 2.0560447 (0)\ttotal: 224ms\tremaining: 3m 44s\n",
      "bestTest = 2.05575166\n",
      "bestIteration = 221\n",
      "Shrink model to first 222 iterations.\n"
     ]
    },
    {
     "name": "stderr",
     "output_type": "stream",
     "text": [
      "[I 2019-11-27 10:35:16,349] Finished trial#40 resulted in value: 2.0557549107323188. Current best value is 1.1712196391529086 with parameters: {'bagging_temperature': 0.03803178354860343, 'depth': 10, 'min_data_in_leaf': 23, 'num_leaves': 161, 'random_strength': 77}.\n"
     ]
    },
    {
     "name": "stdout",
     "output_type": "stream",
     "text": [
      "0:\tlearn: 2.0192796\ttest: 2.0195350\tbest: 2.0195350 (0)\ttotal: 538ms\tremaining: 8m 57s\n",
      "bestTest = 1.202530348\n",
      "bestIteration = 164\n",
      "Shrink model to first 165 iterations.\n"
     ]
    },
    {
     "name": "stderr",
     "output_type": "stream",
     "text": [
      "[I 2019-11-27 10:49:39,220] Finished trial#41 resulted in value: 1.2023623517216813. Current best value is 1.1712196391529086 with parameters: {'bagging_temperature': 0.03803178354860343, 'depth': 10, 'min_data_in_leaf': 23, 'num_leaves': 161, 'random_strength': 77}.\n"
     ]
    },
    {
     "name": "stdout",
     "output_type": "stream",
     "text": [
      "0:\tlearn: 2.0264930\ttest: 2.0256055\tbest: 2.0256055 (0)\ttotal: 843ms\tremaining: 14m 2s\n",
      "500:\tlearn: 1.0317605\ttest: 1.2645582\tbest: 1.2645582 (500)\ttotal: 2m 4s\tremaining: 2m 4s\n",
      "999:\tlearn: 0.9504509\ttest: 1.2349306\tbest: 1.2349306 (999)\ttotal: 3m 33s\tremaining: 0us\n",
      "bestTest = 1.23493059\n",
      "bestIteration = 999\n",
      "Shrink model to first 1000 iterations.\n"
     ]
    },
    {
     "name": "stderr",
     "output_type": "stream",
     "text": [
      "[I 2019-11-27 11:16:16,367] Finished trial#42 resulted in value: 1.2325441069829044. Current best value is 1.1712196391529086 with parameters: {'bagging_temperature': 0.03803178354860343, 'depth': 10, 'min_data_in_leaf': 23, 'num_leaves': 161, 'random_strength': 77}.\n"
     ]
    },
    {
     "name": "stdout",
     "output_type": "stream",
     "text": [
      "0:\tlearn: 2.0224829\ttest: 2.0219593\tbest: 2.0219593 (0)\ttotal: 471ms\tremaining: 7m 50s\n",
      "bestTest = 1.235566884\n",
      "bestIteration = 167\n",
      "Shrink model to first 168 iterations.\n"
     ]
    },
    {
     "name": "stderr",
     "output_type": "stream",
     "text": [
      "[I 2019-11-27 12:38:21,304] Finished trial#43 resulted in value: 1.2354001745836591. Current best value is 1.1712196391529086 with parameters: {'bagging_temperature': 0.03803178354860343, 'depth': 10, 'min_data_in_leaf': 23, 'num_leaves': 161, 'random_strength': 77}.\n"
     ]
    },
    {
     "name": "stdout",
     "output_type": "stream",
     "text": [
      "0:\tlearn: 2.0208765\ttest: 2.0202162\tbest: 2.0202162 (0)\ttotal: 1.02s\tremaining: 17m\n",
      "bestTest = 1.220839575\n",
      "bestIteration = 163\n",
      "Shrink model to first 164 iterations.\n"
     ]
    },
    {
     "name": "stderr",
     "output_type": "stream",
     "text": [
      "[I 2019-11-27 12:55:47,438] Finished trial#44 resulted in value: 1.2205983168610048. Current best value is 1.1712196391529086 with parameters: {'bagging_temperature': 0.03803178354860343, 'depth': 10, 'min_data_in_leaf': 23, 'num_leaves': 161, 'random_strength': 77}.\n"
     ]
    },
    {
     "name": "stdout",
     "output_type": "stream",
     "text": [
      "0:\tlearn: 2.0180943\ttest: 2.0188626\tbest: 2.0188626 (0)\ttotal: 761ms\tremaining: 12m 40s\n",
      "bestTest = 1.181984833\n",
      "bestIteration = 168\n",
      "Shrink model to first 169 iterations.\n"
     ]
    },
    {
     "name": "stderr",
     "output_type": "stream",
     "text": [
      "[I 2019-11-27 13:05:17,104] Finished trial#45 resulted in value: 1.1818400428928226. Current best value is 1.1712196391529086 with parameters: {'bagging_temperature': 0.03803178354860343, 'depth': 10, 'min_data_in_leaf': 23, 'num_leaves': 161, 'random_strength': 77}.\n"
     ]
    },
    {
     "name": "stdout",
     "output_type": "stream",
     "text": [
      "0:\tlearn: 2.0186182\ttest: 2.0192117\tbest: 2.0192117 (0)\ttotal: 1.06s\tremaining: 17m 43s\n",
      "bestTest = 1.190772234\n",
      "bestIteration = 166\n",
      "Shrink model to first 167 iterations.\n"
     ]
    },
    {
     "name": "stderr",
     "output_type": "stream",
     "text": [
      "[I 2019-11-27 13:14:06,236] Finished trial#46 resulted in value: 1.1905905632366243. Current best value is 1.1712196391529086 with parameters: {'bagging_temperature': 0.03803178354860343, 'depth': 10, 'min_data_in_leaf': 23, 'num_leaves': 161, 'random_strength': 77}.\n"
     ]
    },
    {
     "name": "stdout",
     "output_type": "stream",
     "text": [
      "0:\tlearn: 2.0182899\ttest: 2.0189451\tbest: 2.0189451 (0)\ttotal: 1.28s\tremaining: 21m 22s\n",
      "bestTest = 1.191718995\n",
      "bestIteration = 167\n",
      "Shrink model to first 168 iterations.\n"
     ]
    },
    {
     "name": "stderr",
     "output_type": "stream",
     "text": [
      "[I 2019-11-27 15:15:18,704] Finished trial#47 resulted in value: 1.1916328618016285. Current best value is 1.1712196391529086 with parameters: {'bagging_temperature': 0.03803178354860343, 'depth': 10, 'min_data_in_leaf': 23, 'num_leaves': 161, 'random_strength': 77}.\n"
     ]
    },
    {
     "name": "stdout",
     "output_type": "stream",
     "text": [
      "0:\tlearn: 2.0188571\ttest: 2.0187190\tbest: 2.0187190 (0)\ttotal: 961ms\tremaining: 15m 59s\n",
      "bestTest = 1.187610787\n",
      "bestIteration = 164\n",
      "Shrink model to first 165 iterations.\n"
     ]
    },
    {
     "name": "stderr",
     "output_type": "stream",
     "text": [
      "[I 2019-11-27 15:27:17,886] Finished trial#48 resulted in value: 1.1873742629410715. Current best value is 1.1712196391529086 with parameters: {'bagging_temperature': 0.03803178354860343, 'depth': 10, 'min_data_in_leaf': 23, 'num_leaves': 161, 'random_strength': 77}.\n"
     ]
    },
    {
     "name": "stdout",
     "output_type": "stream",
     "text": [
      "0:\tlearn: 2.0188704\ttest: 2.0187326\tbest: 2.0187326 (0)\ttotal: 989ms\tremaining: 16m 28s\n",
      "bestTest = 1.187952108\n",
      "bestIteration = 166\n",
      "Shrink model to first 167 iterations.\n"
     ]
    },
    {
     "name": "stderr",
     "output_type": "stream",
     "text": [
      "[I 2019-11-27 15:59:11,532] Finished trial#49 resulted in value: 1.1877171571074965. Current best value is 1.1712196391529086 with parameters: {'bagging_temperature': 0.03803178354860343, 'depth': 10, 'min_data_in_leaf': 23, 'num_leaves': 161, 'random_strength': 77}.\n"
     ]
    },
    {
     "name": "stdout",
     "output_type": "stream",
     "text": [
      "0:\tlearn: 2.0189343\ttest: 2.0187814\tbest: 2.0187814 (0)\ttotal: 1.02s\tremaining: 16m 55s\n",
      "bestTest = 1.189425321\n",
      "bestIteration = 164\n",
      "Shrink model to first 165 iterations.\n"
     ]
    },
    {
     "name": "stderr",
     "output_type": "stream",
     "text": [
      "[I 2019-11-27 16:10:08,652] Finished trial#50 resulted in value: 1.189277063299205. Current best value is 1.1712196391529086 with parameters: {'bagging_temperature': 0.03803178354860343, 'depth': 10, 'min_data_in_leaf': 23, 'num_leaves': 161, 'random_strength': 77}.\n"
     ]
    },
    {
     "name": "stdout",
     "output_type": "stream",
     "text": [
      "0:\tlearn: 2.0188557\ttest: 2.0187226\tbest: 2.0187226 (0)\ttotal: 772ms\tremaining: 12m 51s\n",
      "bestTest = 1.188250352\n",
      "bestIteration = 128\n",
      "Shrink model to first 129 iterations.\n"
     ]
    },
    {
     "name": "stderr",
     "output_type": "stream",
     "text": [
      "[I 2019-11-27 16:21:57,547] Finished trial#51 resulted in value: 1.1882125151017122. Current best value is 1.1712196391529086 with parameters: {'bagging_temperature': 0.03803178354860343, 'depth': 10, 'min_data_in_leaf': 23, 'num_leaves': 161, 'random_strength': 77}.\n"
     ]
    },
    {
     "name": "stdout",
     "output_type": "stream",
     "text": [
      "0:\tlearn: 2.0233335\ttest: 2.0226222\tbest: 2.0226222 (0)\ttotal: 592ms\tremaining: 9m 51s\n",
      "bestTest = 1.252910572\n",
      "bestIteration = 171\n",
      "Shrink model to first 172 iterations.\n"
     ]
    },
    {
     "name": "stderr",
     "output_type": "stream",
     "text": [
      "[I 2019-11-27 16:32:55,436] Finished trial#52 resulted in value: 1.2522703270699616. Current best value is 1.1712196391529086 with parameters: {'bagging_temperature': 0.03803178354860343, 'depth': 10, 'min_data_in_leaf': 23, 'num_leaves': 161, 'random_strength': 77}.\n"
     ]
    },
    {
     "name": "stdout",
     "output_type": "stream",
     "text": [
      "0:\tlearn: 2.0217418\ttest: 2.0210863\tbest: 2.0210863 (0)\ttotal: 5.1s\tremaining: 1h 24m 52s\n",
      "bestTest = 1.225809726\n",
      "bestIteration = 175\n",
      "Shrink model to first 176 iterations.\n"
     ]
    },
    {
     "name": "stderr",
     "output_type": "stream",
     "text": [
      "[I 2019-11-27 16:45:31,503] Finished trial#53 resulted in value: 1.2254994045219338. Current best value is 1.1712196391529086 with parameters: {'bagging_temperature': 0.03803178354860343, 'depth': 10, 'min_data_in_leaf': 23, 'num_leaves': 161, 'random_strength': 77}.\n"
     ]
    },
    {
     "name": "stdout",
     "output_type": "stream",
     "text": [
      "0:\tlearn: 2.0199702\ttest: 2.0196811\tbest: 2.0196811 (0)\ttotal: 1.08s\tremaining: 17m 59s\n",
      "bestTest = 1.202010504\n",
      "bestIteration = 164\n",
      "Shrink model to first 165 iterations.\n"
     ]
    },
    {
     "name": "stderr",
     "output_type": "stream",
     "text": [
      "[I 2019-11-27 16:55:32,491] Finished trial#54 resulted in value: 1.201843414476118. Current best value is 1.1712196391529086 with parameters: {'bagging_temperature': 0.03803178354860343, 'depth': 10, 'min_data_in_leaf': 23, 'num_leaves': 161, 'random_strength': 77}.\n"
     ]
    },
    {
     "name": "stdout",
     "output_type": "stream",
     "text": [
      "0:\tlearn: 2.0188638\ttest: 2.0187302\tbest: 2.0187302 (0)\ttotal: 1.02s\tremaining: 16m 57s\n",
      "bestTest = 1.191491566\n",
      "bestIteration = 171\n",
      "Shrink model to first 172 iterations.\n"
     ]
    },
    {
     "name": "stderr",
     "output_type": "stream",
     "text": [
      "[I 2019-11-27 17:07:53,055] Finished trial#55 resulted in value: 1.1911901826632811. Current best value is 1.1712196391529086 with parameters: {'bagging_temperature': 0.03803178354860343, 'depth': 10, 'min_data_in_leaf': 23, 'num_leaves': 161, 'random_strength': 77}.\n"
     ]
    },
    {
     "name": "stdout",
     "output_type": "stream",
     "text": [
      "0:\tlearn: 2.0208740\ttest: 2.0202121\tbest: 2.0202121 (0)\ttotal: 687ms\tremaining: 11m 26s\n",
      "bestTest = 1.21347617\n",
      "bestIteration = 160\n",
      "Shrink model to first 161 iterations.\n"
     ]
    },
    {
     "name": "stderr",
     "output_type": "stream",
     "text": [
      "[I 2019-11-27 17:41:27,432] Finished trial#56 resulted in value: 1.2132588609920434. Current best value is 1.1712196391529086 with parameters: {'bagging_temperature': 0.03803178354860343, 'depth': 10, 'min_data_in_leaf': 23, 'num_leaves': 161, 'random_strength': 77}.\n"
     ]
    },
    {
     "name": "stdout",
     "output_type": "stream",
     "text": [
      "0:\tlearn: 2.0187884\ttest: 2.0187283\tbest: 2.0187283 (0)\ttotal: 858ms\tremaining: 14m 17s\n",
      "bestTest = 1.186579125\n",
      "bestIteration = 167\n",
      "Shrink model to first 168 iterations.\n"
     ]
    },
    {
     "name": "stderr",
     "output_type": "stream",
     "text": [
      "[I 2019-11-27 17:56:34,465] Finished trial#57 resulted in value: 1.1864357917716153. Current best value is 1.1712196391529086 with parameters: {'bagging_temperature': 0.03803178354860343, 'depth': 10, 'min_data_in_leaf': 23, 'num_leaves': 161, 'random_strength': 77}.\n"
     ]
    },
    {
     "name": "stdout",
     "output_type": "stream",
     "text": [
      "0:\tlearn: 2.0190643\ttest: 2.0189493\tbest: 2.0189493 (0)\ttotal: 1.14s\tremaining: 19m 2s\n",
      "bestTest = 1.186646745\n",
      "bestIteration = 166\n",
      "Shrink model to first 167 iterations.\n"
     ]
    },
    {
     "name": "stderr",
     "output_type": "stream",
     "text": [
      "[I 2019-11-27 18:05:55,639] Finished trial#58 resulted in value: 1.186411360646101. Current best value is 1.1712196391529086 with parameters: {'bagging_temperature': 0.03803178354860343, 'depth': 10, 'min_data_in_leaf': 23, 'num_leaves': 161, 'random_strength': 77}.\n"
     ]
    },
    {
     "name": "stdout",
     "output_type": "stream",
     "text": [
      "0:\tlearn: 2.0214531\ttest: 2.0211486\tbest: 2.0211486 (0)\ttotal: 659ms\tremaining: 10m 58s\n",
      "bestTest = 1.207580992\n",
      "bestIteration = 178\n",
      "Shrink model to first 179 iterations.\n"
     ]
    },
    {
     "name": "stderr",
     "output_type": "stream",
     "text": [
      "[I 2019-11-27 19:03:12,537] Finished trial#59 resulted in value: 1.2073144908722389. Current best value is 1.1712196391529086 with parameters: {'bagging_temperature': 0.03803178354860343, 'depth': 10, 'min_data_in_leaf': 23, 'num_leaves': 161, 'random_strength': 77}.\n"
     ]
    },
    {
     "name": "stdout",
     "output_type": "stream",
     "text": [
      "0:\tlearn: 2.0190157\ttest: 2.0189169\tbest: 2.0189169 (0)\ttotal: 1.32s\tremaining: 21m 54s\n",
      "bestTest = 1.193348532\n",
      "bestIteration = 168\n",
      "Shrink model to first 169 iterations.\n"
     ]
    },
    {
     "name": "stderr",
     "output_type": "stream",
     "text": [
      "[I 2019-11-27 19:35:34,449] Finished trial#60 resulted in value: 1.193142204745323. Current best value is 1.1712196391529086 with parameters: {'bagging_temperature': 0.03803178354860343, 'depth': 10, 'min_data_in_leaf': 23, 'num_leaves': 161, 'random_strength': 77}.\n"
     ]
    },
    {
     "name": "stdout",
     "output_type": "stream",
     "text": [
      "0:\tlearn: 2.0345880\ttest: 2.0318386\tbest: 2.0318386 (0)\ttotal: 748ms\tremaining: 12m 27s\n",
      "500:\tlearn: 1.2075936\ttest: 1.3386463\tbest: 1.3386463 (500)\ttotal: 5m 9s\tremaining: 5m 8s\n",
      "bestTest = 1.321998945\n",
      "bestIteration = 948\n",
      "Shrink model to first 949 iterations.\n"
     ]
    },
    {
     "name": "stderr",
     "output_type": "stream",
     "text": [
      "[I 2019-11-27 20:07:56,143] Finished trial#61 resulted in value: 1.3210695418039677. Current best value is 1.1712196391529086 with parameters: {'bagging_temperature': 0.03803178354860343, 'depth': 10, 'min_data_in_leaf': 23, 'num_leaves': 161, 'random_strength': 77}.\n"
     ]
    },
    {
     "name": "stdout",
     "output_type": "stream",
     "text": [
      "0:\tlearn: 2.0233137\ttest: 2.0226269\tbest: 2.0226269 (0)\ttotal: 561ms\tremaining: 9m 20s\n",
      "bestTest = 1.252389119\n",
      "bestIteration = 180\n",
      "Shrink model to first 181 iterations.\n"
     ]
    },
    {
     "name": "stderr",
     "output_type": "stream",
     "text": [
      "[I 2019-11-27 20:16:33,658] Finished trial#62 resulted in value: 1.25171267087409. Current best value is 1.1712196391529086 with parameters: {'bagging_temperature': 0.03803178354860343, 'depth': 10, 'min_data_in_leaf': 23, 'num_leaves': 161, 'random_strength': 77}.\n"
     ]
    },
    {
     "name": "stdout",
     "output_type": "stream",
     "text": [
      "0:\tlearn: 2.0208641\ttest: 2.0205863\tbest: 2.0205863 (0)\ttotal: 1.11s\tremaining: 18m 28s\n",
      "bestTest = 1.213471898\n",
      "bestIteration = 194\n",
      "Shrink model to first 195 iterations.\n"
     ]
    },
    {
     "name": "stderr",
     "output_type": "stream",
     "text": [
      "[I 2019-11-27 20:56:08,115] Finished trial#63 resulted in value: 1.2131585573471417. Current best value is 1.1712196391529086 with parameters: {'bagging_temperature': 0.03803178354860343, 'depth': 10, 'min_data_in_leaf': 23, 'num_leaves': 161, 'random_strength': 77}.\n"
     ]
    },
    {
     "name": "stdout",
     "output_type": "stream",
     "text": [
      "0:\tlearn: 2.0201998\ttest: 2.0200279\tbest: 2.0200279 (0)\ttotal: 779ms\tremaining: 12m 58s\n",
      "bestTest = 1.201788617\n",
      "bestIteration = 166\n",
      "Shrink model to first 167 iterations.\n"
     ]
    },
    {
     "name": "stderr",
     "output_type": "stream",
     "text": [
      "[I 2019-11-27 21:07:41,647] Finished trial#64 resulted in value: 1.2016145298883796. Current best value is 1.1712196391529086 with parameters: {'bagging_temperature': 0.03803178354860343, 'depth': 10, 'min_data_in_leaf': 23, 'num_leaves': 161, 'random_strength': 77}.\n"
     ]
    },
    {
     "name": "stdout",
     "output_type": "stream",
     "text": [
      "0:\tlearn: 2.0187883\ttest: 2.0187297\tbest: 2.0187297 (0)\ttotal: 783ms\tremaining: 13m 2s\n",
      "bestTest = 1.189579672\n",
      "bestIteration = 166\n",
      "Shrink model to first 167 iterations.\n"
     ]
    },
    {
     "name": "stderr",
     "output_type": "stream",
     "text": [
      "[I 2019-11-27 21:19:03,356] Finished trial#65 resulted in value: 1.1893700389425061. Current best value is 1.1712196391529086 with parameters: {'bagging_temperature': 0.03803178354860343, 'depth': 10, 'min_data_in_leaf': 23, 'num_leaves': 161, 'random_strength': 77}.\n"
     ]
    },
    {
     "name": "stdout",
     "output_type": "stream",
     "text": [
      "0:\tlearn: 2.0189176\ttest: 2.0188194\tbest: 2.0188194 (0)\ttotal: 578ms\tremaining: 9m 36s\n",
      "bestTest = 1.191323472\n",
      "bestIteration = 166\n",
      "Shrink model to first 167 iterations.\n"
     ]
    },
    {
     "name": "stderr",
     "output_type": "stream",
     "text": [
      "[I 2019-11-27 22:34:22,382] Finished trial#66 resulted in value: 1.1910897110475314. Current best value is 1.1712196391529086 with parameters: {'bagging_temperature': 0.03803178354860343, 'depth': 10, 'min_data_in_leaf': 23, 'num_leaves': 161, 'random_strength': 77}.\n"
     ]
    },
    {
     "name": "stdout",
     "output_type": "stream",
     "text": [
      "0:\tlearn: 2.0184814\ttest: 2.0191066\tbest: 2.0191066 (0)\ttotal: 1.1s\tremaining: 18m 16s\n",
      "bestTest = 1.19231753\n",
      "bestIteration = 163\n",
      "Shrink model to first 164 iterations.\n"
     ]
    },
    {
     "name": "stderr",
     "output_type": "stream",
     "text": [
      "[I 2019-11-28 00:51:28,420] Finished trial#67 resulted in value: 1.192180287132541. Current best value is 1.1712196391529086 with parameters: {'bagging_temperature': 0.03803178354860343, 'depth': 10, 'min_data_in_leaf': 23, 'num_leaves': 161, 'random_strength': 77}.\n"
     ]
    },
    {
     "name": "stdout",
     "output_type": "stream",
     "text": [
      "0:\tlearn: 2.0318125\ttest: 2.0299737\tbest: 2.0299737 (0)\ttotal: 1.11s\tremaining: 18m 30s\n",
      "500:\tlearn: 1.1539895\ttest: 1.3040496\tbest: 1.3040292 (498)\ttotal: 6m 39s\tremaining: 6m 37s\n",
      "bestTest = 1.292835545\n",
      "bestIteration = 948\n",
      "Shrink model to first 949 iterations.\n"
     ]
    },
    {
     "name": "stderr",
     "output_type": "stream",
     "text": [
      "[I 2019-11-28 01:17:12,689] Finished trial#68 resulted in value: 1.292029032279248. Current best value is 1.1712196391529086 with parameters: {'bagging_temperature': 0.03803178354860343, 'depth': 10, 'min_data_in_leaf': 23, 'num_leaves': 161, 'random_strength': 77}.\n"
     ]
    },
    {
     "name": "stdout",
     "output_type": "stream",
     "text": [
      "0:\tlearn: 2.0208759\ttest: 2.0202125\tbest: 2.0202125 (0)\ttotal: 982ms\tremaining: 16m 20s\n",
      "bestTest = 1.213683317\n",
      "bestIteration = 162\n",
      "Shrink model to first 163 iterations.\n"
     ]
    },
    {
     "name": "stderr",
     "output_type": "stream",
     "text": [
      "[I 2019-11-28 01:33:36,779] Finished trial#69 resulted in value: 1.213448304490608. Current best value is 1.1712196391529086 with parameters: {'bagging_temperature': 0.03803178354860343, 'depth': 10, 'min_data_in_leaf': 23, 'num_leaves': 161, 'random_strength': 77}.\n"
     ]
    },
    {
     "name": "stdout",
     "output_type": "stream",
     "text": [
      "0:\tlearn: 2.0193991\ttest: 2.0192675\tbest: 2.0192675 (0)\ttotal: 1.2s\tremaining: 20m\n",
      "bestTest = 1.198289582\n",
      "bestIteration = 159\n",
      "Shrink model to first 160 iterations.\n"
     ]
    },
    {
     "name": "stderr",
     "output_type": "stream",
     "text": [
      "[I 2019-11-28 01:46:25,351] Finished trial#70 resulted in value: 1.1980800841244126. Current best value is 1.1712196391529086 with parameters: {'bagging_temperature': 0.03803178354860343, 'depth': 10, 'min_data_in_leaf': 23, 'num_leaves': 161, 'random_strength': 77}.\n"
     ]
    },
    {
     "name": "stdout",
     "output_type": "stream",
     "text": [
      "0:\tlearn: 2.0205303\ttest: 2.0204460\tbest: 2.0204460 (0)\ttotal: 812ms\tremaining: 13m 30s\n",
      "bestTest = 1.205895468\n",
      "bestIteration = 166\n",
      "Shrink model to first 167 iterations.\n"
     ]
    },
    {
     "name": "stderr",
     "output_type": "stream",
     "text": [
      "[I 2019-11-28 03:10:57,882] Finished trial#71 resulted in value: 1.2058296491757725. Current best value is 1.1712196391529086 with parameters: {'bagging_temperature': 0.03803178354860343, 'depth': 10, 'min_data_in_leaf': 23, 'num_leaves': 161, 'random_strength': 77}.\n"
     ]
    },
    {
     "name": "stdout",
     "output_type": "stream",
     "text": [
      "0:\tlearn: 2.0202414\ttest: 2.0200111\tbest: 2.0200111 (0)\ttotal: 761ms\tremaining: 12m 39s\n",
      "bestTest = 1.236137036\n",
      "bestIteration = 333\n",
      "Shrink model to first 334 iterations.\n"
     ]
    },
    {
     "name": "stderr",
     "output_type": "stream",
     "text": [
      "[I 2019-11-28 03:25:49,699] Finished trial#72 resulted in value: 1.2358037794173984. Current best value is 1.1712196391529086 with parameters: {'bagging_temperature': 0.03803178354860343, 'depth': 10, 'min_data_in_leaf': 23, 'num_leaves': 161, 'random_strength': 77}.\n"
     ]
    },
    {
     "name": "stdout",
     "output_type": "stream",
     "text": [
      "0:\tlearn: 2.0208760\ttest: 2.0202103\tbest: 2.0202103 (0)\ttotal: 1.49s\tremaining: 24m 45s\n",
      "bestTest = 1.210930734\n",
      "bestIteration = 164\n",
      "Shrink model to first 165 iterations.\n"
     ]
    },
    {
     "name": "stderr",
     "output_type": "stream",
     "text": [
      "[I 2019-11-28 03:38:46,775] Finished trial#73 resulted in value: 1.2107101352265344. Current best value is 1.1712196391529086 with parameters: {'bagging_temperature': 0.03803178354860343, 'depth': 10, 'min_data_in_leaf': 23, 'num_leaves': 161, 'random_strength': 77}.\n"
     ]
    },
    {
     "name": "stdout",
     "output_type": "stream",
     "text": [
      "0:\tlearn: 2.0191443\ttest: 2.0190805\tbest: 2.0190805 (0)\ttotal: 942ms\tremaining: 15m 40s\n",
      "bestTest = 1.191378966\n",
      "bestIteration = 159\n",
      "Shrink model to first 160 iterations.\n"
     ]
    },
    {
     "name": "stderr",
     "output_type": "stream",
     "text": [
      "[I 2019-11-28 03:49:56,668] Finished trial#74 resulted in value: 1.1911335761556687. Current best value is 1.1712196391529086 with parameters: {'bagging_temperature': 0.03803178354860343, 'depth': 10, 'min_data_in_leaf': 23, 'num_leaves': 161, 'random_strength': 77}.\n"
     ]
    },
    {
     "name": "stdout",
     "output_type": "stream",
     "text": [
      "0:\tlearn: 2.0188552\ttest: 2.0187205\tbest: 2.0187205 (0)\ttotal: 451ms\tremaining: 7m 30s\n",
      "bestTest = 1.191897009\n",
      "bestIteration = 153\n",
      "Shrink model to first 154 iterations.\n"
     ]
    },
    {
     "name": "stderr",
     "output_type": "stream",
     "text": [
      "[I 2019-11-28 06:00:55,429] Finished trial#75 resulted in value: 1.1917199203150202. Current best value is 1.1712196391529086 with parameters: {'bagging_temperature': 0.03803178354860343, 'depth': 10, 'min_data_in_leaf': 23, 'num_leaves': 161, 'random_strength': 77}.\n"
     ]
    },
    {
     "name": "stdout",
     "output_type": "stream",
     "text": [
      "0:\tlearn: 2.0190173\ttest: 2.0188541\tbest: 2.0188541 (0)\ttotal: 1.19s\tremaining: 19m 48s\n",
      "bestTest = 1.190678046\n",
      "bestIteration = 160\n",
      "Shrink model to first 161 iterations.\n"
     ]
    },
    {
     "name": "stderr",
     "output_type": "stream",
     "text": [
      "[I 2019-11-28 07:22:10,544] Finished trial#76 resulted in value: 1.1904743163448384. Current best value is 1.1712196391529086 with parameters: {'bagging_temperature': 0.03803178354860343, 'depth': 10, 'min_data_in_leaf': 23, 'num_leaves': 161, 'random_strength': 77}.\n"
     ]
    },
    {
     "name": "stdout",
     "output_type": "stream",
     "text": [
      "0:\tlearn: 2.0188870\ttest: 2.0187547\tbest: 2.0187547 (0)\ttotal: 1.22s\tremaining: 20m 16s\n",
      "bestTest = 1.18472596\n",
      "bestIteration = 163\n",
      "Shrink model to first 164 iterations.\n"
     ]
    },
    {
     "name": "stderr",
     "output_type": "stream",
     "text": [
      "[I 2019-11-28 09:37:14,600] Finished trial#77 resulted in value: 1.184478184283806. Current best value is 1.1712196391529086 with parameters: {'bagging_temperature': 0.03803178354860343, 'depth': 10, 'min_data_in_leaf': 23, 'num_leaves': 161, 'random_strength': 77}.\n"
     ]
    },
    {
     "name": "stdout",
     "output_type": "stream",
     "text": [
      "0:\tlearn: 2.0181707\ttest: 2.0187494\tbest: 2.0187494 (0)\ttotal: 1.11s\tremaining: 18m 29s\n",
      "bestTest = 1.187513095\n",
      "bestIteration = 164\n",
      "Shrink model to first 165 iterations.\n"
     ]
    },
    {
     "name": "stderr",
     "output_type": "stream",
     "text": [
      "[I 2019-11-28 09:51:28,947] Finished trial#78 resulted in value: 1.1873622262300643. Current best value is 1.1712196391529086 with parameters: {'bagging_temperature': 0.03803178354860343, 'depth': 10, 'min_data_in_leaf': 23, 'num_leaves': 161, 'random_strength': 77}.\n"
     ]
    },
    {
     "name": "stdout",
     "output_type": "stream",
     "text": [
      "0:\tlearn: 2.0186873\ttest: 2.0192062\tbest: 2.0192062 (0)\ttotal: 725ms\tremaining: 12m 3s\n",
      "bestTest = 1.193353642\n",
      "bestIteration = 166\n",
      "Shrink model to first 167 iterations.\n"
     ]
    },
    {
     "name": "stderr",
     "output_type": "stream",
     "text": [
      "[I 2019-11-28 10:03:41,676] Finished trial#79 resulted in value: 1.1931810453046012. Current best value is 1.1712196391529086 with parameters: {'bagging_temperature': 0.03803178354860343, 'depth': 10, 'min_data_in_leaf': 23, 'num_leaves': 161, 'random_strength': 77}.\n"
     ]
    },
    {
     "name": "stdout",
     "output_type": "stream",
     "text": [
      "0:\tlearn: 2.0181821\ttest: 2.0187701\tbest: 2.0187701 (0)\ttotal: 1.46s\tremaining: 24m 18s\n",
      "bestTest = 1.189335512\n",
      "bestIteration = 166\n",
      "Shrink model to first 167 iterations.\n"
     ]
    },
    {
     "name": "stderr",
     "output_type": "stream",
     "text": [
      "[I 2019-11-28 10:15:28,668] Finished trial#80 resulted in value: 1.1891991312677845. Current best value is 1.1712196391529086 with parameters: {'bagging_temperature': 0.03803178354860343, 'depth': 10, 'min_data_in_leaf': 23, 'num_leaves': 161, 'random_strength': 77}.\n"
     ]
    },
    {
     "name": "stdout",
     "output_type": "stream",
     "text": [
      "0:\tlearn: 2.0182689\ttest: 2.0188686\tbest: 2.0188686 (0)\ttotal: 672ms\tremaining: 11m 10s\n",
      "bestTest = 1.18920506\n",
      "bestIteration = 167\n",
      "Shrink model to first 168 iterations.\n"
     ]
    },
    {
     "name": "stderr",
     "output_type": "stream",
     "text": [
      "[I 2019-11-28 11:06:11,810] Finished trial#81 resulted in value: 1.1890398077434983. Current best value is 1.1712196391529086 with parameters: {'bagging_temperature': 0.03803178354860343, 'depth': 10, 'min_data_in_leaf': 23, 'num_leaves': 161, 'random_strength': 77}.\n"
     ]
    },
    {
     "name": "stdout",
     "output_type": "stream",
     "text": [
      "0:\tlearn: 2.0183801\ttest: 2.0191052\tbest: 2.0191052 (0)\ttotal: 1.7s\tremaining: 28m 21s\n",
      "bestTest = 1.195879253\n",
      "bestIteration = 166\n",
      "Shrink model to first 167 iterations.\n"
     ]
    },
    {
     "name": "stderr",
     "output_type": "stream",
     "text": [
      "[I 2019-11-28 13:16:18,704] Finished trial#82 resulted in value: 1.1956664464510403. Current best value is 1.1712196391529086 with parameters: {'bagging_temperature': 0.03803178354860343, 'depth': 10, 'min_data_in_leaf': 23, 'num_leaves': 161, 'random_strength': 77}.\n"
     ]
    },
    {
     "name": "stdout",
     "output_type": "stream",
     "text": [
      "0:\tlearn: 2.0297730\ttest: 2.0285471\tbest: 2.0285471 (0)\ttotal: 310ms\tremaining: 5m 9s\n",
      "bestTest = 1.309503881\n",
      "bestIteration = 319\n",
      "Shrink model to first 320 iterations.\n"
     ]
    },
    {
     "name": "stderr",
     "output_type": "stream",
     "text": [
      "[I 2019-11-28 14:21:23,717] Finished trial#83 resulted in value: 1.3085079847708507. Current best value is 1.1712196391529086 with parameters: {'bagging_temperature': 0.03803178354860343, 'depth': 10, 'min_data_in_leaf': 23, 'num_leaves': 161, 'random_strength': 77}.\n"
     ]
    },
    {
     "name": "stdout",
     "output_type": "stream",
     "text": [
      "0:\tlearn: 2.0183524\ttest: 2.0190719\tbest: 2.0190719 (0)\ttotal: 1.29s\tremaining: 21m 25s\n",
      "bestTest = 1.186479978\n",
      "bestIteration = 168\n",
      "Shrink model to first 169 iterations.\n"
     ]
    },
    {
     "name": "stderr",
     "output_type": "stream",
     "text": [
      "[I 2019-11-28 14:37:17,755] Finished trial#84 resulted in value: 1.1863508722304996. Current best value is 1.1712196391529086 with parameters: {'bagging_temperature': 0.03803178354860343, 'depth': 10, 'min_data_in_leaf': 23, 'num_leaves': 161, 'random_strength': 77}.\n"
     ]
    },
    {
     "name": "stdout",
     "output_type": "stream",
     "text": [
      "0:\tlearn: 2.0183379\ttest: 2.0190608\tbest: 2.0190608 (0)\ttotal: 1.06s\tremaining: 17m 36s\n",
      "bestTest = 1.187697388\n",
      "bestIteration = 164\n",
      "Shrink model to first 165 iterations.\n"
     ]
    },
    {
     "name": "stderr",
     "output_type": "stream",
     "text": [
      "[I 2019-11-28 14:54:16,318] Finished trial#85 resulted in value: 1.187582467023662. Current best value is 1.1712196391529086 with parameters: {'bagging_temperature': 0.03803178354860343, 'depth': 10, 'min_data_in_leaf': 23, 'num_leaves': 161, 'random_strength': 77}.\n"
     ]
    },
    {
     "name": "stdout",
     "output_type": "stream",
     "text": [
      "0:\tlearn: 2.0181688\ttest: 2.0188360\tbest: 2.0188360 (0)\ttotal: 1.32s\tremaining: 21m 58s\n",
      "bestTest = 1.194197127\n",
      "bestIteration = 164\n",
      "Shrink model to first 165 iterations.\n"
     ]
    },
    {
     "name": "stderr",
     "output_type": "stream",
     "text": [
      "[I 2019-11-28 15:06:34,580] Finished trial#86 resulted in value: 1.1940528267186683. Current best value is 1.1712196391529086 with parameters: {'bagging_temperature': 0.03803178354860343, 'depth': 10, 'min_data_in_leaf': 23, 'num_leaves': 161, 'random_strength': 77}.\n"
     ]
    },
    {
     "name": "stdout",
     "output_type": "stream",
     "text": [
      "0:\tlearn: 2.0185211\ttest: 2.0191456\tbest: 2.0191456 (0)\ttotal: 621ms\tremaining: 10m 20s\n",
      "bestTest = 1.190131462\n",
      "bestIteration = 169\n",
      "Shrink model to first 170 iterations.\n"
     ]
    },
    {
     "name": "stderr",
     "output_type": "stream",
     "text": [
      "[I 2019-11-28 15:19:53,898] Finished trial#87 resulted in value: 1.1899965956940106. Current best value is 1.1712196391529086 with parameters: {'bagging_temperature': 0.03803178354860343, 'depth': 10, 'min_data_in_leaf': 23, 'num_leaves': 161, 'random_strength': 77}.\n"
     ]
    },
    {
     "name": "stdout",
     "output_type": "stream",
     "text": [
      "0:\tlearn: 2.0182600\ttest: 2.0189152\tbest: 2.0189152 (0)\ttotal: 1.51s\tremaining: 25m 5s\n",
      "bestTest = 1.190777441\n",
      "bestIteration = 167\n",
      "Shrink model to first 168 iterations.\n"
     ]
    },
    {
     "name": "stderr",
     "output_type": "stream",
     "text": [
      "[I 2019-11-28 15:36:26,685] Finished trial#88 resulted in value: 1.190616988598796. Current best value is 1.1712196391529086 with parameters: {'bagging_temperature': 0.03803178354860343, 'depth': 10, 'min_data_in_leaf': 23, 'num_leaves': 161, 'random_strength': 77}.\n"
     ]
    },
    {
     "name": "stdout",
     "output_type": "stream",
     "text": [
      "0:\tlearn: 2.0190427\ttest: 2.0189821\tbest: 2.0189821 (0)\ttotal: 977ms\tremaining: 16m 15s\n",
      "bestTest = 1.192441463\n",
      "bestIteration = 165\n",
      "Shrink model to first 166 iterations.\n"
     ]
    },
    {
     "name": "stderr",
     "output_type": "stream",
     "text": [
      "[I 2019-11-28 15:49:06,521] Finished trial#89 resulted in value: 1.192227766294673. Current best value is 1.1712196391529086 with parameters: {'bagging_temperature': 0.03803178354860343, 'depth': 10, 'min_data_in_leaf': 23, 'num_leaves': 161, 'random_strength': 77}.\n"
     ]
    },
    {
     "name": "stdout",
     "output_type": "stream",
     "text": [
      "0:\tlearn: 2.0187568\ttest: 2.0192546\tbest: 2.0192546 (0)\ttotal: 915ms\tremaining: 15m 14s\n",
      "bestTest = 1.192628147\n",
      "bestIteration = 168\n",
      "Shrink model to first 169 iterations.\n"
     ]
    },
    {
     "name": "stderr",
     "output_type": "stream",
     "text": [
      "[I 2019-11-28 16:01:02,263] Finished trial#90 resulted in value: 1.192479864625169. Current best value is 1.1712196391529086 with parameters: {'bagging_temperature': 0.03803178354860343, 'depth': 10, 'min_data_in_leaf': 23, 'num_leaves': 161, 'random_strength': 77}.\n"
     ]
    },
    {
     "name": "stdout",
     "output_type": "stream",
     "text": [
      "0:\tlearn: 2.0206991\ttest: 2.0204558\tbest: 2.0204558 (0)\ttotal: 1.22s\tremaining: 20m 14s\n",
      "bestTest = 1.213662843\n",
      "bestIteration = 172\n",
      "Shrink model to first 173 iterations.\n"
     ]
    },
    {
     "name": "stderr",
     "output_type": "stream",
     "text": [
      "[I 2019-11-28 16:13:33,046] Finished trial#91 resulted in value: 1.2134684031992276. Current best value is 1.1712196391529086 with parameters: {'bagging_temperature': 0.03803178354860343, 'depth': 10, 'min_data_in_leaf': 23, 'num_leaves': 161, 'random_strength': 77}.\n"
     ]
    },
    {
     "name": "stdout",
     "output_type": "stream",
     "text": [
      "0:\tlearn: 2.0181316\ttest: 2.0188023\tbest: 2.0188023 (0)\ttotal: 866ms\tremaining: 14m 25s\n",
      "bestTest = 1.189882505\n",
      "bestIteration = 163\n",
      "Shrink model to first 164 iterations.\n"
     ]
    },
    {
     "name": "stderr",
     "output_type": "stream",
     "text": [
      "[I 2019-11-28 16:25:48,848] Finished trial#92 resulted in value: 1.1897005835363317. Current best value is 1.1712196391529086 with parameters: {'bagging_temperature': 0.03803178354860343, 'depth': 10, 'min_data_in_leaf': 23, 'num_leaves': 161, 'random_strength': 77}.\n"
     ]
    },
    {
     "name": "stdout",
     "output_type": "stream",
     "text": [
      "0:\tlearn: 2.0204085\ttest: 2.0202391\tbest: 2.0202391 (0)\ttotal: 503ms\tremaining: 8m 22s\n",
      "bestTest = 1.206220578\n",
      "bestIteration = 164\n",
      "Shrink model to first 165 iterations.\n"
     ]
    },
    {
     "name": "stderr",
     "output_type": "stream",
     "text": [
      "[I 2019-11-28 16:41:31,318] Finished trial#93 resulted in value: 1.2060334404604753. Current best value is 1.1712196391529086 with parameters: {'bagging_temperature': 0.03803178354860343, 'depth': 10, 'min_data_in_leaf': 23, 'num_leaves': 161, 'random_strength': 77}.\n"
     ]
    },
    {
     "name": "stdout",
     "output_type": "stream",
     "text": [
      "0:\tlearn: 2.0208689\ttest: 2.0202161\tbest: 2.0202161 (0)\ttotal: 971ms\tremaining: 16m 10s\n",
      "bestTest = 1.208305079\n",
      "bestIteration = 166\n",
      "Shrink model to first 167 iterations.\n"
     ]
    },
    {
     "name": "stderr",
     "output_type": "stream",
     "text": [
      "[I 2019-11-28 16:55:21,219] Finished trial#94 resulted in value: 1.2080478564533381. Current best value is 1.1712196391529086 with parameters: {'bagging_temperature': 0.03803178354860343, 'depth': 10, 'min_data_in_leaf': 23, 'num_leaves': 161, 'random_strength': 77}.\n"
     ]
    },
    {
     "name": "stdout",
     "output_type": "stream",
     "text": [
      "0:\tlearn: 2.0183626\ttest: 2.0190674\tbest: 2.0190674 (0)\ttotal: 1.19s\tremaining: 19m 52s\n",
      "bestTest = 1.190799887\n",
      "bestIteration = 164\n",
      "Shrink model to first 165 iterations.\n"
     ]
    },
    {
     "name": "stderr",
     "output_type": "stream",
     "text": [
      "[I 2019-11-28 17:09:24,441] Finished trial#95 resulted in value: 1.190707152528857. Current best value is 1.1712196391529086 with parameters: {'bagging_temperature': 0.03803178354860343, 'depth': 10, 'min_data_in_leaf': 23, 'num_leaves': 161, 'random_strength': 77}.\n"
     ]
    },
    {
     "name": "stdout",
     "output_type": "stream",
     "text": [
      "0:\tlearn: 2.0182323\ttest: 2.0188849\tbest: 2.0188849 (0)\ttotal: 1.17s\tremaining: 19m 32s\n",
      "bestTest = 1.188688708\n",
      "bestIteration = 175\n",
      "Shrink model to first 176 iterations.\n"
     ]
    },
    {
     "name": "stderr",
     "output_type": "stream",
     "text": [
      "[I 2019-11-28 18:39:05,548] Finished trial#96 resulted in value: 1.1884019840566034. Current best value is 1.1712196391529086 with parameters: {'bagging_temperature': 0.03803178354860343, 'depth': 10, 'min_data_in_leaf': 23, 'num_leaves': 161, 'random_strength': 77}.\n"
     ]
    },
    {
     "name": "stdout",
     "output_type": "stream",
     "text": [
      "0:\tlearn: 2.0186394\ttest: 2.0192337\tbest: 2.0192337 (0)\ttotal: 8.96s\tremaining: 2h 29m 16s\n",
      "bestTest = 1.196377338\n",
      "bestIteration = 164\n",
      "Shrink model to first 165 iterations.\n"
     ]
    },
    {
     "name": "stderr",
     "output_type": "stream",
     "text": [
      "[I 2019-11-28 19:01:45,272] Finished trial#97 resulted in value: 1.196167848055889. Current best value is 1.1712196391529086 with parameters: {'bagging_temperature': 0.03803178354860343, 'depth': 10, 'min_data_in_leaf': 23, 'num_leaves': 161, 'random_strength': 77}.\n"
     ]
    },
    {
     "name": "stdout",
     "output_type": "stream",
     "text": [
      "0:\tlearn: 2.0184948\ttest: 2.0191279\tbest: 2.0191279 (0)\ttotal: 434ms\tremaining: 7m 13s\n",
      "bestTest = 1.196340002\n",
      "bestIteration = 164\n",
      "Shrink model to first 165 iterations.\n"
     ]
    },
    {
     "name": "stderr",
     "output_type": "stream",
     "text": [
      "[I 2019-11-28 19:13:32,003] Finished trial#98 resulted in value: 1.1961939051981092. Current best value is 1.1712196391529086 with parameters: {'bagging_temperature': 0.03803178354860343, 'depth': 10, 'min_data_in_leaf': 23, 'num_leaves': 161, 'random_strength': 77}.\n"
     ]
    },
    {
     "name": "stdout",
     "output_type": "stream",
     "text": [
      "0:\tlearn: 2.0188870\ttest: 2.0187547\tbest: 2.0187547 (0)\ttotal: 705ms\tremaining: 11m 44s\n",
      "bestTest = 1.19323253\n",
      "bestIteration = 162\n",
      "Shrink model to first 163 iterations.\n"
     ]
    },
    {
     "name": "stderr",
     "output_type": "stream",
     "text": [
      "[I 2019-11-28 21:32:10,974] Finished trial#99 resulted in value: 1.1930651146800644. Current best value is 1.1712196391529086 with parameters: {'bagging_temperature': 0.03803178354860343, 'depth': 10, 'min_data_in_leaf': 23, 'num_leaves': 161, 'random_strength': 77}.\n"
     ]
    },
    {
     "name": "stdout",
     "output_type": "stream",
     "text": [
      "0:\tlearn: 2.0210863\ttest: 2.0208797\tbest: 2.0208797 (0)\ttotal: 603ms\tremaining: 10m 2s\n",
      "bestTest = 1.218335885\n",
      "bestIteration = 167\n",
      "Shrink model to first 168 iterations.\n"
     ]
    },
    {
     "name": "stderr",
     "output_type": "stream",
     "text": [
      "[I 2019-11-28 21:50:37,058] Finished trial#100 resulted in value: 1.218108675794796. Current best value is 1.1712196391529086 with parameters: {'bagging_temperature': 0.03803178354860343, 'depth': 10, 'min_data_in_leaf': 23, 'num_leaves': 161, 'random_strength': 77}.\n"
     ]
    },
    {
     "name": "stdout",
     "output_type": "stream",
     "text": [
      "0:\tlearn: 2.0183512\ttest: 2.0189868\tbest: 2.0189868 (0)\ttotal: 779ms\tremaining: 12m 58s\n",
      "bestTest = 1.200776542\n",
      "bestIteration = 164\n",
      "Shrink model to first 165 iterations.\n"
     ]
    },
    {
     "name": "stderr",
     "output_type": "stream",
     "text": [
      "[I 2019-11-28 22:07:02,894] Finished trial#101 resulted in value: 1.2006298415634464. Current best value is 1.1712196391529086 with parameters: {'bagging_temperature': 0.03803178354860343, 'depth': 10, 'min_data_in_leaf': 23, 'num_leaves': 161, 'random_strength': 77}.\n"
     ]
    },
    {
     "name": "stdout",
     "output_type": "stream",
     "text": [
      "0:\tlearn: 2.0189340\ttest: 2.0187854\tbest: 2.0187854 (0)\ttotal: 1.07s\tremaining: 17m 51s\n",
      "bestTest = 1.194811477\n",
      "bestIteration = 161\n",
      "Shrink model to first 162 iterations.\n"
     ]
    },
    {
     "name": "stderr",
     "output_type": "stream",
     "text": [
      "[I 2019-11-28 22:22:54,329] Finished trial#102 resulted in value: 1.1945916025954089. Current best value is 1.1712196391529086 with parameters: {'bagging_temperature': 0.03803178354860343, 'depth': 10, 'min_data_in_leaf': 23, 'num_leaves': 161, 'random_strength': 77}.\n"
     ]
    }
   ],
   "source": [
    "# Training\n",
    "# Data Loading\n",
    "with open(train_pkl_path, 'rb') as f:\n",
    "    train = pickle.load(f)\n",
    "\n",
    "importance_df = pd.read_csv(importance_path)\n",
    "\n",
    "pruner = optuna.pruners.SuccessiveHalvingPruner(min_resource=50)\n",
    "\n",
    "# New Study\n",
    "# study = optuna.create_study(\n",
    "#     study_name='ashrae_cat',\n",
    "#     storage='sqlite:///ashrae_cat.db',\n",
    "#     load_if_exists=True,\n",
    "#     direction='minimize',\n",
    "#     pruner=pruner\n",
    "# )\n",
    "\n",
    "# Reload Intermediate state\n",
    "study = optuna.load_study(\n",
    "    study_name='ashrae_cat',\n",
    "    storage='sqlite:///ashrae_cat.db',\n",
    "    pruner=pruner\n",
    ")\n",
    "\n",
    "study.optimize(objective, timeout=60*60*48)"
   ]
  },
  {
   "cell_type": "code",
   "execution_count": null,
   "metadata": {},
   "outputs": [],
   "source": []
  }
 ],
 "metadata": {
  "kernelspec": {
   "display_name": "Python 3",
   "language": "python",
   "name": "python3"
  },
  "language_info": {
   "codemirror_mode": {
    "name": "ipython",
    "version": 3
   },
   "file_extension": ".py",
   "mimetype": "text/x-python",
   "name": "python",
   "nbconvert_exporter": "python",
   "pygments_lexer": "ipython3",
   "version": "3.7.4"
  }
 },
 "nbformat": 4,
 "nbformat_minor": 1
}
